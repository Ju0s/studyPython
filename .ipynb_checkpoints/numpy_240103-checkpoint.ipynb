{
 "cells": [
  {
   "cell_type": "markdown",
   "id": "b77fafdb-3513-482e-a712-d40acb9411ff",
   "metadata": {
    "tags": []
   },
   "source": [
    "## NumPy\n",
    "- p.214\n",
    "- 선형대수, 행렬 수치연산과 관련된 라이브러리\n",
    "- 문과생, 고졸인데, 전문대졸인데... 선형대수는 모르는데요?\n",
    "  + 선형대수를 공부해야 합니까?\n",
    "- Numpy 기반으로 ==> 통계, 머신러닝, 등등"
   ]
  },
  {
   "cell_type": "code",
   "execution_count": 2,
   "id": "29542399-4748-4c6f-b6c8-83505d5d10dc",
   "metadata": {
    "tags": []
   },
   "outputs": [],
   "source": [
    "# !pip install numpy"
   ]
  },
  {
   "cell_type": "code",
   "execution_count": 3,
   "id": "9a711444-bc31-4d6e-acef-8fa1d652549e",
   "metadata": {
    "tags": []
   },
   "outputs": [
    {
     "name": "stdout",
     "output_type": "stream",
     "text": [
      "1.26.3\n"
     ]
    }
   ],
   "source": [
    "import numpy as np  # Numpy 라이브러리 불러오기\n",
    "\n",
    "print(np.__version__)"
   ]
  },
  {
   "cell_type": "code",
   "execution_count": 4,
   "id": "5a2df4db-490c-4ea1-8761-5589c1bd2de0",
   "metadata": {
    "tags": []
   },
   "outputs": [
    {
     "data": {
      "text/plain": [
       "[1, 2, 3, 4, 3, 4, 5, 6]"
      ]
     },
     "execution_count": 4,
     "metadata": {},
     "output_type": "execute_result"
    }
   ],
   "source": [
    "num1 = [1, 2, 3, 4]\n",
    "num2 = [3, 4, 5, 6]\n",
    "\n",
    "num1 + num2"
   ]
  },
  {
   "cell_type": "code",
   "execution_count": 5,
   "id": "194e9aa5-6cbd-4743-a0e1-90cc35ac170b",
   "metadata": {
    "tags": []
   },
   "outputs": [
    {
     "data": {
      "text/plain": [
       "array([3, 4, 5, 6])"
      ]
     },
     "execution_count": 5,
     "metadata": {},
     "output_type": "execute_result"
    }
   ],
   "source": [
    "arr1 = np.array(num1)\n",
    "arr2 = np.array(num2)\n",
    "arr1\n",
    "arr2"
   ]
  },
  {
   "cell_type": "code",
   "execution_count": 6,
   "id": "a108f03d-6344-41a2-970e-c782681b642e",
   "metadata": {
    "tags": []
   },
   "outputs": [
    {
     "data": {
      "text/plain": [
       "array([ 4,  6,  8, 10])"
      ]
     },
     "execution_count": 6,
     "metadata": {},
     "output_type": "execute_result"
    }
   ],
   "source": [
    "arr1 + arr2  # 배열 연산"
   ]
  },
  {
   "cell_type": "code",
   "execution_count": 7,
   "id": "4a4af996-b569-4e5f-bd3c-e47f14be06f0",
   "metadata": {
    "tags": []
   },
   "outputs": [
    {
     "data": {
      "text/plain": [
       "array([0, 1, 2, 3, 4, 5])"
      ]
     },
     "execution_count": 7,
     "metadata": {},
     "output_type": "execute_result"
    }
   ],
   "source": [
    "data1 =  [0, 1, 2, 3, 4, 5]\n",
    "a1 = np.array(data1)\n",
    "a1"
   ]
  },
  {
   "cell_type": "code",
   "execution_count": 8,
   "id": "5c08ddb3-8003-428d-9a83-35ba17eda625",
   "metadata": {
    "tags": []
   },
   "outputs": [
    {
     "data": {
      "text/plain": [
       "dtype('int32')"
      ]
     },
     "execution_count": 8,
     "metadata": {},
     "output_type": "execute_result"
    }
   ],
   "source": [
    "a1.dtype  # Python: int  # Numpy: int8, int16, int32, int64(비트 단위로 구분)"
   ]
  },
  {
   "cell_type": "code",
   "execution_count": 9,
   "id": "053688ac-def7-42df-b8a8-470f86994df5",
   "metadata": {
    "tags": []
   },
   "outputs": [
    {
     "data": {
      "text/plain": [
       "array([ 0.1,  5. ,  4. , 12. ,  0.5])"
      ]
     },
     "execution_count": 9,
     "metadata": {},
     "output_type": "execute_result"
    }
   ],
   "source": [
    "data2 = [0.1, 5, 4, 12, 0.5]\n",
    "a2 = np.array(data2)\n",
    "a2"
   ]
  },
  {
   "cell_type": "code",
   "execution_count": 10,
   "id": "c2a55ec2-f204-4621-a505-8825cbf22a89",
   "metadata": {
    "tags": []
   },
   "outputs": [
    {
     "data": {
      "text/plain": [
       "dtype('float64')"
      ]
     },
     "execution_count": 10,
     "metadata": {},
     "output_type": "execute_result"
    }
   ],
   "source": [
    "a2.dtype"
   ]
  },
  {
   "cell_type": "code",
   "execution_count": 11,
   "id": "c2a7cb79-a00c-4b53-b13e-e46cb46aecfa",
   "metadata": {
    "tags": []
   },
   "outputs": [
    {
     "data": {
      "text/plain": [
       "array([0.5 , 2.  , 0.01, 8.  ])"
      ]
     },
     "execution_count": 11,
     "metadata": {},
     "output_type": "execute_result"
    }
   ],
   "source": [
    "np.array([0.5, 2, 0.01, 8])"
   ]
  },
  {
   "cell_type": "markdown",
   "id": "a946da35-6a58-4292-8a1f-93dc8ee097a3",
   "metadata": {
    "tags": []
   },
   "source": [
    "## NumPy 배열 생성\n",
    "- 1차원, 2차원, 3차원... 배열 생성"
   ]
  },
  {
   "cell_type": "code",
   "execution_count": 12,
   "id": "0b4c8b88-8a67-4334-b88d-045a98bd6562",
   "metadata": {
    "tags": []
   },
   "outputs": [
    {
     "data": {
      "text/plain": [
       "array([0, 2, 4, 6, 8])"
      ]
     },
     "execution_count": 12,
     "metadata": {},
     "output_type": "execute_result"
    }
   ],
   "source": [
    "np.arange(0, 10, 2)"
   ]
  },
  {
   "cell_type": "code",
   "execution_count": 13,
   "id": "1b1ad654-9126-4015-840c-9de78ef62a6b",
   "metadata": {
    "tags": []
   },
   "outputs": [
    {
     "data": {
      "text/plain": [
       "array([1, 2, 3, 4, 5, 6, 7, 8, 9])"
      ]
     },
     "execution_count": 13,
     "metadata": {},
     "output_type": "execute_result"
    }
   ],
   "source": [
    "np.arange(1, 10)"
   ]
  },
  {
   "cell_type": "code",
   "execution_count": 14,
   "id": "5d854025-3a44-4306-9ffe-d51ef1f42b02",
   "metadata": {
    "tags": []
   },
   "outputs": [
    {
     "data": {
      "text/plain": [
       "array([0, 1, 2, 3, 4, 5, 6, 7, 8, 9])"
      ]
     },
     "execution_count": 14,
     "metadata": {},
     "output_type": "execute_result"
    }
   ],
   "source": [
    "np.arange(10)  # 1차원 배열 ==> 2차원 또는 3차원으로 변경"
   ]
  },
  {
   "cell_type": "code",
   "execution_count": 15,
   "id": "3f06a4a4-0c38-429c-b45b-422738425069",
   "metadata": {
    "tags": []
   },
   "outputs": [
    {
     "data": {
      "text/plain": [
       "array([[ 0,  1,  2],\n",
       "       [ 3,  4,  5],\n",
       "       [ 6,  7,  8],\n",
       "       [ 9, 10, 11]])"
      ]
     },
     "execution_count": 15,
     "metadata": {},
     "output_type": "execute_result"
    }
   ],
   "source": [
    "np.arange(12).reshape(4, 3)"
   ]
  },
  {
   "cell_type": "code",
   "execution_count": 16,
   "id": "50fb6117-544e-4ace-9288-a854bf135e13",
   "metadata": {
    "tags": []
   },
   "outputs": [
    {
     "data": {
      "text/plain": [
       "array([[[ 0,  1,  2],\n",
       "        [ 3,  4,  5]],\n",
       "\n",
       "       [[ 6,  7,  8],\n",
       "        [ 9, 10, 11]]])"
      ]
     },
     "execution_count": 16,
     "metadata": {},
     "output_type": "execute_result"
    }
   ],
   "source": [
    "np.arange(12).reshape(2, 2, 3)"
   ]
  },
  {
   "cell_type": "code",
   "execution_count": 17,
   "id": "9f1cb361-866e-4ff3-a8ac-dfcda984d0af",
   "metadata": {
    "tags": []
   },
   "outputs": [
    {
     "data": {
      "text/plain": [
       "(4, 3)"
      ]
     },
     "execution_count": 17,
     "metadata": {},
     "output_type": "execute_result"
    }
   ],
   "source": [
    "b1 = np.arange(12).reshape(4, 3)\n",
    "b1.shape"
   ]
  },
  {
   "cell_type": "code",
   "execution_count": 18,
   "id": "cc53ce9b-5d06-4dcb-bbc1-729fb1e523fb",
   "metadata": {
    "tags": []
   },
   "outputs": [
    {
     "data": {
      "text/plain": [
       "(5,)"
      ]
     },
     "execution_count": 18,
     "metadata": {},
     "output_type": "execute_result"
    }
   ],
   "source": [
    "b2 = np.arange(5)\n",
    "b2.shape"
   ]
  },
  {
   "cell_type": "code",
   "execution_count": 19,
   "id": "21ecb0c3-302d-43d8-b198-781f301ed92a",
   "metadata": {
    "tags": []
   },
   "outputs": [
    {
     "data": {
      "text/plain": [
       "array([ 1.,  2.,  3.,  4.,  5.,  6.,  7.,  8.,  9., 10.])"
      ]
     },
     "execution_count": 19,
     "metadata": {},
     "output_type": "execute_result"
    }
   ],
   "source": [
    "# 범위의 시작과 끝 정하기 배열 생성\n",
    "np.linspace(1, 10, 10)"
   ]
  },
  {
   "cell_type": "code",
   "execution_count": 45,
   "id": "9cd6eba2-182f-4824-8355-0b7478f39a65",
   "metadata": {
    "tags": []
   },
   "outputs": [
    {
     "data": {
      "text/plain": [
       "array([0.        , 0.16534698, 0.33069396, 0.49604095, 0.66138793,\n",
       "       0.82673491, 0.99208189, 1.15742887, 1.32277585, 1.48812284,\n",
       "       1.65346982, 1.8188168 , 1.98416378, 2.14951076, 2.31485774,\n",
       "       2.48020473, 2.64555171, 2.81089869, 2.97624567, 3.14159265])"
      ]
     },
     "execution_count": 45,
     "metadata": {},
     "output_type": "execute_result"
    }
   ],
   "source": [
    "np.linspace(0, np.pi, 20)"
   ]
  },
  {
   "cell_type": "code",
   "execution_count": 46,
   "id": "322692eb-c3bf-4271-9dd4-594283bd5442",
   "metadata": {
    "tags": []
   },
   "outputs": [
    {
     "data": {
      "text/plain": [
       "array([0., 0., 0., 0., 0., 0., 0., 0., 0., 0.])"
      ]
     },
     "execution_count": 46,
     "metadata": {},
     "output_type": "execute_result"
    }
   ],
   "source": [
    "np.zeros(10)"
   ]
  },
  {
   "cell_type": "code",
   "execution_count": 47,
   "id": "e117d0ba-b3d0-4434-bfb4-acfbeaafa3be",
   "metadata": {
    "tags": []
   },
   "outputs": [
    {
     "data": {
      "text/plain": [
       "array([[0., 0.],\n",
       "       [0., 0.]])"
      ]
     },
     "execution_count": 47,
     "metadata": {},
     "output_type": "execute_result"
    }
   ],
   "source": [
    "np.zeros((2, 2))"
   ]
  },
  {
   "cell_type": "code",
   "execution_count": 48,
   "id": "d3f25d4c-5b5b-4d85-934a-119f17124a13",
   "metadata": {
    "tags": []
   },
   "outputs": [
    {
     "data": {
      "text/plain": [
       "array([1., 1., 1., 1., 1., 1., 1., 1., 1., 1.])"
      ]
     },
     "execution_count": 48,
     "metadata": {},
     "output_type": "execute_result"
    }
   ],
   "source": [
    "np.ones(10)"
   ]
  },
  {
   "cell_type": "code",
   "execution_count": 49,
   "id": "2fb28b41-c86b-4c31-8c7e-994fed801d07",
   "metadata": {
    "tags": []
   },
   "outputs": [
    {
     "data": {
      "text/plain": [
       "array([[1., 1.],\n",
       "       [1., 1.]])"
      ]
     },
     "execution_count": 49,
     "metadata": {},
     "output_type": "execute_result"
    }
   ],
   "source": [
    "np.ones((2, 2))"
   ]
  },
  {
   "cell_type": "markdown",
   "id": "9568a5b9-971a-4a57-aff5-36f08208f486",
   "metadata": {
    "tags": []
   },
   "source": [
    "## NumPy 기초 문법 배우는 이유\n",
    "- 문과생: 데이터 분석가, 기초문법 있구나! 넘어가면 끝.\n",
    "- 이공계: 수치연산, 배열, 수식을 활용해서 문제 풀이\n",
    "    + 클래스, 딥러닝 클래스, NumPy를 활용해서 딥러닝 알고리즘을 적용해서 클래스 & 라이브러리\n",
    "    + 밑바닥부터 시작하는 딥러닝3,"
   ]
  },
  {
   "cell_type": "code",
   "execution_count": 51,
   "id": "7ed401da-2d1c-4fde-aab8-b08b249ba07d",
   "metadata": {
    "tags": []
   },
   "outputs": [
    {
     "data": {
      "text/plain": [
       "array([[1., 0., 0.],\n",
       "       [0., 1., 0.],\n",
       "       [0., 0., 1.]])"
      ]
     },
     "execution_count": 51,
     "metadata": {},
     "output_type": "execute_result"
    }
   ],
   "source": [
    "# 단위행렬\n",
    "arr_I = np.eye(3)\n",
    "arr_I"
   ]
  },
  {
   "cell_type": "code",
   "execution_count": 52,
   "id": "5b73fc1a-a310-4b92-b9ef-9d3a8a764f27",
   "metadata": {
    "tags": []
   },
   "outputs": [
    {
     "data": {
      "text/plain": [
       "(3, 3)"
      ]
     },
     "execution_count": 52,
     "metadata": {},
     "output_type": "execute_result"
    }
   ],
   "source": [
    "arr_I.shape"
   ]
  },
  {
   "cell_type": "code",
   "execution_count": 54,
   "id": "5b614532-994f-42a6-a007-486b1e7c707f",
   "metadata": {
    "tags": []
   },
   "outputs": [
    {
     "data": {
      "text/plain": [
       "array(['1.5', '0.62'], dtype='<U4')"
      ]
     },
     "execution_count": 54,
     "metadata": {},
     "output_type": "execute_result"
    }
   ],
   "source": [
    "np.array(['1.5', '0.62'])  # 데이터 형변환"
   ]
  },
  {
   "cell_type": "code",
   "execution_count": 57,
   "id": "43d0cfe1-f4b4-45fd-b905-158f9fa98457",
   "metadata": {
    "tags": []
   },
   "outputs": [
    {
     "data": {
      "text/plain": [
       "dtype('float64')"
      ]
     },
     "execution_count": 57,
     "metadata": {},
     "output_type": "execute_result"
    }
   ],
   "source": [
    "# astype()  # pandas에서도 사용 가능\n",
    "arr = np.array(['1.5', '0.62'])\n",
    "num_arr = arr.astype(float)\n",
    "num_arr\n",
    "num_arr.dtype"
   ]
  },
  {
   "cell_type": "code",
   "execution_count": 58,
   "id": "163cccb6-4333-48cb-878c-2aad4f4d820b",
   "metadata": {
    "tags": []
   },
   "outputs": [
    {
     "data": {
      "text/plain": [
       "array([1.5 , 0.62])"
      ]
     },
     "execution_count": 58,
     "metadata": {},
     "output_type": "execute_result"
    }
   ],
   "source": [
    "np.array(['1.5', '0.62'], dtype = float)"
   ]
  },
  {
   "cell_type": "code",
   "execution_count": 59,
   "id": "d7779102-6f8d-4071-b637-4c60a9057f52",
   "metadata": {
    "tags": []
   },
   "outputs": [
    {
     "data": {
      "text/plain": [
       "array([10, 21,  0,  4,  5])"
      ]
     },
     "execution_count": 59,
     "metadata": {},
     "output_type": "execute_result"
    }
   ],
   "source": [
    "num_f1 = np.array([10, 21, 0.549, 4.75, 5.98])\n",
    "num_f1 = num_f1.astype(int)\n",
    "num_f1"
   ]
  },
  {
   "cell_type": "code",
   "execution_count": 60,
   "id": "9ca99fdb-35ba-45d5-b9b3-eb6e6095b0c3",
   "metadata": {
    "tags": []
   },
   "outputs": [
    {
     "data": {
      "text/plain": [
       "array([10.   , 21.   ,  0.549,  4.75 ,  5.98 ])"
      ]
     },
     "execution_count": 60,
     "metadata": {},
     "output_type": "execute_result"
    }
   ],
   "source": [
    "num_f1 = np.array([10, 21, 0.549, 4.75, 5.98])\n",
    "num_f1 = num_f1.astype(float)\n",
    "num_f1"
   ]
  },
  {
   "cell_type": "code",
   "execution_count": 66,
   "id": "f2add901-1465-41ed-9ff9-4b2477a1d926",
   "metadata": {
    "tags": []
   },
   "outputs": [
    {
     "data": {
      "text/plain": [
       "array([[[0.68690317, 0.82143052, 0.7714933 , 0.97834349],\n",
       "        [0.66413284, 0.24827805, 0.8329693 , 0.23968574]],\n",
       "\n",
       "       [[0.4152737 , 0.97551317, 0.67684613, 0.5939142 ],\n",
       "        [0.87149991, 0.97759209, 0.4083724 , 0.88662253]]])"
      ]
     },
     "execution_count": 66,
     "metadata": {},
     "output_type": "execute_result"
    }
   ],
   "source": [
    "# p.224\n",
    "# 난수: 무작위로 숫자를 추출한다\n",
    "\n",
    "np.random.rand(2, 2, 4)  # 0 ~ 1 사이의 실수 난수를 가짐, 괄호 안=배열의 크기"
   ]
  },
  {
   "cell_type": "code",
   "execution_count": 70,
   "id": "1e458ba6-1842-42ee-b6c6-b18f60ada83b",
   "metadata": {
    "tags": []
   },
   "outputs": [
    {
     "data": {
      "text/plain": [
       "array([43, 75, 60, 55, 25, 42, 80, 66, 17, 33])"
      ]
     },
     "execution_count": 70,
     "metadata": {},
     "output_type": "execute_result"
    }
   ],
   "source": [
    "np.random.randint(1, 100, 10)  # 범위 사이의 정수 난수를 가짐"
   ]
  },
  {
   "cell_type": "code",
   "execution_count": 6,
   "id": "10ce2424-06ec-4497-8b99-ba42553af7b8",
   "metadata": {
    "tags": []
   },
   "outputs": [
    {
     "name": "stdout",
     "output_type": "stream",
     "text": [
      "로또 당첨 번호: [6, 8, 10, 14, 17, 44] + 보너스 번호: [23]\n"
     ]
    }
   ],
   "source": [
    "# 로또 번호 생성기 (중복 번호 X)\n",
    "\n",
    "import numpy as np\n",
    "\n",
    "# Initialize an empty list for lotto numbers.\n",
    "lotto = []\n",
    "\n",
    "# Generate 6 unique lotto numbers between 1 and 45.\n",
    "for i in range(6):\n",
    "    # Generate a random number and ensure it's not a duplicate.\n",
    "    num = np.random.randint(1, 46)\n",
    "    while num in lotto:\n",
    "        num = np.random.randint(1, 46)\n",
    "    lotto.append(num)\n",
    "\n",
    "# Sort the generated lotto numbers.\n",
    "lotto.sort()\n",
    "\n",
    "# Initialize an empty list for the bonus number.\n",
    "bonus = []\n",
    "\n",
    "# Generate a unique bonus number not present in the lotto numbers.\n",
    "bonus_num = np.random.randint(1, 46)\n",
    "while bonus_num in lotto:\n",
    "    bonus_num = np.random.randint(1, 46)\n",
    "bonus.append(bonus_num)\n",
    "\n",
    "# Display the generated lotto numbers and bonus.\n",
    "print(f'로또 당첨 번호: {lotto} + 보너스 번호: {bonus}')"
   ]
  },
  {
   "cell_type": "code",
   "execution_count": 18,
   "id": "1de1e91d-b3b7-4334-8b34-9b8cb93540dc",
   "metadata": {
    "tags": []
   },
   "outputs": [
    {
     "name": "stdout",
     "output_type": "stream",
     "text": [
      "로또 당첨 번호: [26, 32, 35, 36, 37, 42] + 보너스 번호: [29]\n"
     ]
    }
   ],
   "source": [
    "def lotto(n):  \n",
    "    # Initialize an empty list for lotto numbers.\n",
    "    numbers = [] \n",
    "    while len(numbers) < n: \n",
    "        # Generate a random number between 1 and 45.\n",
    "        num = np.random.randint(1, 46) \n",
    "        # Check if the generated number is not in the list to avoid duplicates.\n",
    "        if num not in numbers:  \n",
    "            numbers.append(num) \n",
    "            numbers.sort()\n",
    "    return numbers \n",
    "\n",
    "def bonus(n):\n",
    "    # Initialize an empty list for the bonus number.\n",
    "    bonus_number = []\n",
    "    while len(bonus_number) < n:  \n",
    "        # Generate a random number between 1 and 45.\n",
    "        num = np.random.randint(1, 46) \n",
    "        # Check if the generated bonus number is not in the list to avoid duplicates.\n",
    "        if num not in bonus_number: \n",
    "            bonus_number.append(num)\n",
    "            bonus_number.sort()\n",
    "    return bonus_number\n",
    "\n",
    "# Display the generated lotto numbers and bonus.\n",
    "print(f'로또 당첨 번호: {lotto(6)} + 보너스 번호: {bonus(1)}')"
   ]
  },
  {
   "cell_type": "code",
   "execution_count": null,
   "id": "500e84e0-0675-4c4d-8bce-b892abbf4702",
   "metadata": {
    "tags": []
   },
   "outputs": [],
   "source": [
    "# 로또 번호 추첨기 만들어보기\n",
    "\n",
    "# 조건1: 보너스숫자와 로또 메인 번호는 겹치지 않아야\n",
    "# 조건2: 로또번호 내에서도 겹치는 숫자 없어야\n",
    "# 조건3: 로또 번호(보너스 제외)는 오름차순으로 정렬되어야\n",
    "\n",
    "lotto = np.random.randint(1, 46, size=(6, ))  \n",
    "bonus = np.random.randint(1, 46)\n",
    "lotto = np.sort(lotto)   # 조건3\n",
    "\n",
    "# way1\n",
    "if bonus not in lotto:   \n",
    "    if np.unique(lotto).size == len(lotto):   # 2, 3, 3, 6, 10, 22 고유값 2, 3, 6, 10, 22\n",
    "        print(f'이번 주 로또 당첨번호는 {lotto} + 보너스번호 {bonus}')\n",
    "\n",
    "# way2\n",
    "if bonus not in lotto:   \n",
    "    if np.unique(lotto).size == len(lotto):  \n",
    "        print(f'이번 주 로또 당첨번호는', end=' ')\n",
    "        for i in range(6):\n",
    "            print(lotto[i], end=' ')\n",
    "            if i == 5:\n",
    "                print(f'+ 보너스번호 ', bonus)"
   ]
  },
  {
   "cell_type": "code",
   "execution_count": 31,
   "id": "6783b919-b7c8-42c1-b51e-c9e553b53925",
   "metadata": {},
   "outputs": [
    {
     "name": "stdout",
     "output_type": "stream",
     "text": [
      "로또 당첨 번호: [ 2  6 20 25 29 40] + 보너스 번호: 32\n"
     ]
    }
   ],
   "source": [
    "# Generate a 1-dimensional NumPy array with random integers from 1 to 45 for lotto numbers\n",
    "lotto = np.random.randint(1, 46, size=(6,))\n",
    "\n",
    "# Generate a random integer from 1 to 45 for the bonus number\n",
    "bonus = np.random.randint(1, 46)\n",
    "\n",
    "# Ensure unique lotto numbers are generated; loop until unique numbers are obtained\n",
    "while np.unique(lotto).size != len(lotto):\n",
    "    num = np.random.randint(1, 46)\n",
    "    lotto = np.append(lotto, num)\n",
    "\n",
    "# Sort the generated lotto numbers\n",
    "lotto = np.sort(lotto)\n",
    "\n",
    "# Ensure the bonus number is not in the lotto numbers; loop until a unique bonus number is obtained\n",
    "while bonus in lotto:\n",
    "    bonus = np.random.randint(1, 46)\n",
    "\n",
    "# Display the generated lotto numbers and bonus.\n",
    "print(f'로또 당첨 번호: {lotto} + 보너스 번호: {bonus}')"
   ]
  },
  {
   "cell_type": "code",
   "execution_count": 83,
   "id": "bb8e1e4e-3d82-47fb-8158-a13b031f3c8e",
   "metadata": {
    "tags": []
   },
   "outputs": [
    {
     "name": "stdout",
     "output_type": "stream",
     "text": [
      "로또 번호:  [ 1 22 26 34 35 45]\n"
     ]
    }
   ],
   "source": [
    "def generate_lotto_numbers():\n",
    "    # 1부터 45까지의 숫자 중에서 6개를 무작위로 선택\n",
    "    lotto_numbers = np.random.choice(range(1, 46), size=6, replace=False)\n",
    "    \n",
    "    # 선택된 숫자들을 정렬\n",
    "    lotto_numbers.sort()\n",
    "    \n",
    "    return lotto_numbers\n",
    "\n",
    "if __name__ == \"__main__\":\n",
    "    # 로또 번호 생성 및 출력\n",
    "    lotto_result = generate_lotto_numbers()\n",
    "    print(\"로또 번호: \", lotto_result)"
   ]
  },
  {
   "cell_type": "markdown",
   "id": "9bc763a3-9e0a-44ba-a892-c99b23e3f222",
   "metadata": {},
   "source": [
    "## 분석 프로젝트 진행 시\n",
    "- 간단하고, 빠르게 하고 싶다! Google Colab 유용\n",
    "- 2~3주 내내, 로컬 환경에서 분석하는 것이 훨씬 효율적"
   ]
  },
  {
   "cell_type": "markdown",
   "id": "241cce85-60f6-4162-af44-f216c50be56b",
   "metadata": {},
   "source": [
    "## 배열의 연산\n",
    "- p.225"
   ]
  },
  {
   "cell_type": "code",
   "execution_count": 90,
   "id": "5d87365c-aa40-4009-889a-b99237e2ea6c",
   "metadata": {
    "tags": []
   },
   "outputs": [
    {
     "name": "stdout",
     "output_type": "stream",
     "text": [
      "[11 22 33 44]\n",
      "[ 9 18 27 36]\n",
      "[ 10  40  90 160]\n",
      "[10. 10. 10. 10.]\n"
     ]
    }
   ],
   "source": [
    "arr1 = np.array([10, 20, 30, 40])\n",
    "arr2 = np.array([1, 2, 3, 4])\n",
    "\n",
    "print(arr1 + arr2)  # 덧셈\n",
    "print(arr1 - arr2)  # 뺄셈\n",
    "print(arr1 * arr2)  # 곱셈\n",
    "print(arr1 / arr2)  # 나눗셈"
   ]
  },
  {
   "cell_type": "markdown",
   "id": "a885fce9-f9ad-418a-ace9-92ef49a85a97",
   "metadata": {
    "tags": []
   },
   "source": [
    "## 비교연산"
   ]
  },
  {
   "cell_type": "code",
   "execution_count": 92,
   "id": "09371028-78e5-4b74-b9ea-2e4ebca6b447",
   "metadata": {
    "tags": []
   },
   "outputs": [
    {
     "data": {
      "text/plain": [
       "array([False, False,  True,  True])"
      ]
     },
     "execution_count": 92,
     "metadata": {},
     "output_type": "execute_result"
    }
   ],
   "source": [
    "arr1 > 20"
   ]
  },
  {
   "cell_type": "markdown",
   "id": "d0f9dc7a-207d-410c-98a3-5609ae9286eb",
   "metadata": {},
   "source": [
    "## 통계 연산\n",
    "- NumPy, 합, 평균, 표준 편차, 분산, 최솟값, 최댓값, 누적합, 누적곱 메서드가 존재한다.\n",
    "    + 기술통계량(Descriptive staistics): 현재 데이터 상태를 표현(=묘사, Describe)한다.\n",
    "- 통계: 평균이 전부다! (Mean is Everything)\n",
    "    + 모수 통계\n",
    "    + 비모수 통계\n",
    "    + 베이지안 통계"
   ]
  },
  {
   "cell_type": "code",
   "execution_count": 93,
   "id": "93bf397b-7b8e-4443-89e2-e5286be8c018",
   "metadata": {
    "tags": []
   },
   "outputs": [
    {
     "data": {
      "text/plain": [
       "array([0, 1, 2, 3, 4])"
      ]
     },
     "execution_count": 93,
     "metadata": {},
     "output_type": "execute_result"
    }
   ],
   "source": [
    "arr3 = np.arange(5)\n",
    "arr3"
   ]
  },
  {
   "cell_type": "code",
   "execution_count": 94,
   "id": "26abbcae-6ede-4e36-bd0d-e50c3611482c",
   "metadata": {
    "tags": []
   },
   "outputs": [
    {
     "data": {
      "text/plain": [
       "10"
      ]
     },
     "execution_count": 94,
     "metadata": {},
     "output_type": "execute_result"
    }
   ],
   "source": [
    "arr3.sum()"
   ]
  },
  {
   "cell_type": "code",
   "execution_count": 95,
   "id": "e34e4ebc-3ae8-47e8-9219-b81cc65f0f3d",
   "metadata": {
    "tags": []
   },
   "outputs": [
    {
     "data": {
      "text/plain": [
       "2.0"
      ]
     },
     "execution_count": 95,
     "metadata": {},
     "output_type": "execute_result"
    }
   ],
   "source": [
    "arr3.mean()"
   ]
  },
  {
   "cell_type": "code",
   "execution_count": 96,
   "id": "cad66116-66ea-4c21-9d9a-9673e45d1293",
   "metadata": {
    "tags": []
   },
   "outputs": [
    {
     "data": {
      "text/plain": [
       "1.4142135623730951"
      ]
     },
     "execution_count": 96,
     "metadata": {},
     "output_type": "execute_result"
    }
   ],
   "source": [
    "arr3.std()  # 표준편차"
   ]
  },
  {
   "cell_type": "code",
   "execution_count": 97,
   "id": "19146c5c-988f-491b-9043-cdf7a09106ee",
   "metadata": {
    "tags": []
   },
   "outputs": [
    {
     "data": {
      "text/plain": [
       "2.0"
      ]
     },
     "execution_count": 97,
     "metadata": {},
     "output_type": "execute_result"
    }
   ],
   "source": [
    "arr3.var()  # 분산"
   ]
  },
  {
   "cell_type": "markdown",
   "id": "236decfc-237a-4d85-906d-cf0b8d2f563e",
   "metadata": {},
   "source": [
    "## 누적합과 누적곱\n",
    "- cumsum(): 누적합\n",
    "- cumprod(): 누적곱"
   ]
  },
  {
   "cell_type": "code",
   "execution_count": 102,
   "id": "11ef7019-4778-4c18-90cb-14607332061d",
   "metadata": {
    "tags": []
   },
   "outputs": [
    {
     "data": {
      "text/plain": [
       "array([1, 2, 3, 4])"
      ]
     },
     "execution_count": 102,
     "metadata": {},
     "output_type": "execute_result"
    }
   ],
   "source": [
    "arr4 = np.arange(1, 5)\n",
    "arr4"
   ]
  },
  {
   "cell_type": "code",
   "execution_count": 103,
   "id": "f30c7e24-2529-4e4f-8918-47f69bc7e923",
   "metadata": {
    "tags": []
   },
   "outputs": [
    {
     "data": {
      "text/plain": [
       "array([ 1,  3,  6, 10])"
      ]
     },
     "execution_count": 103,
     "metadata": {},
     "output_type": "execute_result"
    }
   ],
   "source": [
    "arr4.cumsum()"
   ]
  },
  {
   "cell_type": "code",
   "execution_count": 104,
   "id": "0f912360-3632-453a-b79e-dc4d58adfd58",
   "metadata": {
    "tags": []
   },
   "outputs": [
    {
     "data": {
      "text/plain": [
       "array([ 1,  2,  6, 24])"
      ]
     },
     "execution_count": 104,
     "metadata": {},
     "output_type": "execute_result"
    }
   ],
   "source": [
    "arr4.cumprod()"
   ]
  },
  {
   "cell_type": "markdown",
   "id": "ad9339ba-ed5a-40c8-80cd-dee2cc937f6e",
   "metadata": {},
   "source": [
    "## 행렬 연산\n",
    "- 선형 대수(Linear algebra)를 위한 2차원 배열 연산도 지원\n",
    "- p.229, 행렬곱, 전치행렬, 역행렬, 행렬식 사용 예시"
   ]
  },
  {
   "cell_type": "code",
   "execution_count": 106,
   "id": "ca3811fe-711d-47a4-97e4-a15c987b1232",
   "metadata": {
    "tags": []
   },
   "outputs": [
    {
     "data": {
      "text/plain": [
       "array([[0, 1],\n",
       "       [2, 3]])"
      ]
     },
     "execution_count": 106,
     "metadata": {},
     "output_type": "execute_result"
    }
   ],
   "source": [
    "A = np.array([0, 1, 2, 3]).reshape(2, 2)\n",
    "A"
   ]
  },
  {
   "cell_type": "code",
   "execution_count": 110,
   "id": "94313161-74b6-4c98-8fb5-a5871a5a97ba",
   "metadata": {
    "tags": []
   },
   "outputs": [
    {
     "data": {
      "text/plain": [
       "array([[3, 2],\n",
       "       [0, 1]])"
      ]
     },
     "execution_count": 110,
     "metadata": {},
     "output_type": "execute_result"
    }
   ],
   "source": [
    "B = np.array([3, 2, 0, 1]).reshape(2, 2)\n",
    "B"
   ]
  },
  {
   "cell_type": "code",
   "execution_count": 111,
   "id": "0eef8822-f801-4d21-8c6b-03174f08fc23",
   "metadata": {
    "tags": []
   },
   "outputs": [
    {
     "data": {
      "text/plain": [
       "array([[0, 1],\n",
       "       [6, 7]])"
      ]
     },
     "execution_count": 111,
     "metadata": {},
     "output_type": "execute_result"
    }
   ],
   "source": [
    "A.dot(B)"
   ]
  },
  {
   "cell_type": "code",
   "execution_count": 112,
   "id": "1cc0d146-8202-446b-888e-f984057b450a",
   "metadata": {
    "tags": []
   },
   "outputs": [
    {
     "data": {
      "text/plain": [
       "array([[0, 2],\n",
       "       [1, 3]])"
      ]
     },
     "execution_count": 112,
     "metadata": {},
     "output_type": "execute_result"
    }
   ],
   "source": [
    "A.transpose()"
   ]
  },
  {
   "cell_type": "code",
   "execution_count": 113,
   "id": "0ebdd16d-60c2-4b4d-9089-343852f2a8b6",
   "metadata": {
    "tags": []
   },
   "outputs": [
    {
     "data": {
      "text/plain": [
       "array([[-1.5,  0.5],\n",
       "       [ 1. ,  0. ]])"
      ]
     },
     "execution_count": 113,
     "metadata": {},
     "output_type": "execute_result"
    }
   ],
   "source": [
    "np.linalg.inv(A)"
   ]
  },
  {
   "cell_type": "markdown",
   "id": "226ad26b-550d-445d-a95b-98dc290e49f4",
   "metadata": {},
   "source": [
    "## 배열의 인덱싱과 슬라이싱\n",
    "- string, list, tuple과 동일한 방법으로 접근\n",
    "- p.230"
   ]
  },
  {
   "cell_type": "code",
   "execution_count": 115,
   "id": "847fe060-b99e-4d36-ab03-cd7f6d996e4a",
   "metadata": {
    "tags": []
   },
   "outputs": [
    {
     "data": {
      "text/plain": [
       "array([ 0, 10, 20, 30, 40, 50])"
      ]
     },
     "execution_count": 115,
     "metadata": {},
     "output_type": "execute_result"
    }
   ],
   "source": [
    "a1 = np.array([0, 10, 20, 30, 40, 50])\n",
    "a1"
   ]
  },
  {
   "cell_type": "code",
   "execution_count": 117,
   "id": "9f2c2ed3-a23d-4c79-9d1b-7efa59549667",
   "metadata": {
    "tags": []
   },
   "outputs": [
    {
     "data": {
      "text/plain": [
       "40"
      ]
     },
     "execution_count": 117,
     "metadata": {},
     "output_type": "execute_result"
    }
   ],
   "source": [
    "a1[4]"
   ]
  },
  {
   "cell_type": "code",
   "execution_count": 118,
   "id": "e9ac73bf-2f65-42a3-b548-47c83754cec3",
   "metadata": {
    "tags": []
   },
   "outputs": [
    {
     "data": {
      "text/plain": [
       "array([ 0, 10, 20, 30, 40, 70])"
      ]
     },
     "execution_count": 118,
     "metadata": {},
     "output_type": "execute_result"
    }
   ],
   "source": [
    "# 50을 70으로 변경\n",
    "a1[5] = 70\n",
    "a1"
   ]
  },
  {
   "cell_type": "code",
   "execution_count": 122,
   "id": "b7497dfb-4e3a-42a0-a107-c85aa92472be",
   "metadata": {
    "tags": []
   },
   "outputs": [
    {
     "data": {
      "text/plain": [
       "array([ 0, 20, 40])"
      ]
     },
     "execution_count": 122,
     "metadata": {},
     "output_type": "execute_result"
    }
   ],
   "source": [
    "# 리스트 통해서 추출: 인덱스 위치를 리스트화\n",
    "a1[[0, 2, 4]]"
   ]
  },
  {
   "cell_type": "code",
   "execution_count": 124,
   "id": "47792a5d-6230-4ee9-9ce9-08ae721bca65",
   "metadata": {
    "tags": []
   },
   "outputs": [
    {
     "data": {
      "text/plain": [
       "array([ 0, 20, 40])"
      ]
     },
     "execution_count": 124,
     "metadata": {},
     "output_type": "execute_result"
    }
   ],
   "source": [
    "idx_list = [0, 2, 4]\n",
    "a1[idx_list]"
   ]
  },
  {
   "cell_type": "code",
   "execution_count": 121,
   "id": "b3051bf4-cf85-43f6-ba0d-4600a74267fb",
   "metadata": {
    "tags": []
   },
   "outputs": [
    {
     "data": {
      "text/plain": [
       "array([[10, 20, 30],\n",
       "       [40, 50, 60],\n",
       "       [70, 80, 90]])"
      ]
     },
     "execution_count": 121,
     "metadata": {},
     "output_type": "execute_result"
    }
   ],
   "source": [
    "a2 = np.arange(10, 100, 10).reshape(3, 3)\n",
    "a2"
   ]
  },
  {
   "cell_type": "code",
   "execution_count": 126,
   "id": "23cbd11a-f8e1-4aa3-a42e-4f83d1523e8e",
   "metadata": {
    "tags": []
   },
   "outputs": [
    {
     "data": {
      "text/plain": [
       "50"
      ]
     },
     "execution_count": 126,
     "metadata": {},
     "output_type": "execute_result"
    }
   ],
   "source": [
    "a2[1, 1]"
   ]
  },
  {
   "cell_type": "code",
   "execution_count": 127,
   "id": "197a18d0-b06b-47d4-83be-9a77d0877cea",
   "metadata": {
    "tags": []
   },
   "outputs": [
    {
     "data": {
      "text/plain": [
       "array([[10, 20, 30],\n",
       "       [40, 50, 60],\n",
       "       [70, 80, 95]])"
      ]
     },
     "execution_count": 127,
     "metadata": {},
     "output_type": "execute_result"
    }
   ],
   "source": [
    "# 90을 95로 변경\n",
    "a2[2, 2] = 95\n",
    "a2"
   ]
  },
  {
   "cell_type": "code",
   "execution_count": 131,
   "id": "43e8cd76-35aa-4d52-9934-b48a6f898b32",
   "metadata": {
    "tags": []
   },
   "outputs": [
    {
     "data": {
      "text/plain": [
       "array([[ 1,  2,  3],\n",
       "       [40, 50, 60],\n",
       "       [70, 80, 95]])"
      ]
     },
     "execution_count": 131,
     "metadata": {},
     "output_type": "execute_result"
    }
   ],
   "source": [
    "a2[0] = [1, 2, 3]\n",
    "a2"
   ]
  },
  {
   "cell_type": "code",
   "execution_count": 134,
   "id": "a6b02171-530c-43db-a394-32eaa18a81ef",
   "metadata": {
    "tags": []
   },
   "outputs": [
    {
     "data": {
      "text/plain": [
       "array([[ 4,  5,  6],\n",
       "       [40, 50, 60],\n",
       "       [70, 80, 95]])"
      ]
     },
     "execution_count": 134,
     "metadata": {},
     "output_type": "execute_result"
    }
   ],
   "source": [
    "a2[0] = np.array([4, 5, 6])  # 정석\n",
    "a2"
   ]
  },
  {
   "cell_type": "markdown",
   "id": "ab92bcc5-6725-4c9c-b7dd-b1f8a6278e66",
   "metadata": {},
   "source": [
    "- 2차원 배열의 행과 열 위치 지정해서 원소 추출\n",
    "    + (행의 위치1, 열의 위치1) / (행의 위치2, 열의 위치2)"
   ]
  },
  {
   "cell_type": "code",
   "execution_count": 137,
   "id": "67ee68de-57c5-4e78-8b1f-d87ee602dd00",
   "metadata": {
    "tags": []
   },
   "outputs": [
    {
     "data": {
      "text/plain": [
       "array([[ 4,  5,  6],\n",
       "       [40, 50, 60],\n",
       "       [70, 80, 95]])"
      ]
     },
     "execution_count": 137,
     "metadata": {},
     "output_type": "execute_result"
    }
   ],
   "source": [
    "a2"
   ]
  },
  {
   "cell_type": "code",
   "execution_count": 138,
   "id": "a11ef208-154b-43d5-8a93-db59d30d8247",
   "metadata": {
    "tags": []
   },
   "outputs": [
    {
     "data": {
      "text/plain": [
       "array([ 4, 80])"
      ]
     },
     "execution_count": 138,
     "metadata": {},
     "output_type": "execute_result"
    }
   ],
   "source": [
    "a2[[0, 2], [0, 1]]  # a2[0, 0], a2[2, 1]"
   ]
  },
  {
   "cell_type": "code",
   "execution_count": 139,
   "id": "4dab59aa-ec40-4d33-8578-e3d273c6578f",
   "metadata": {
    "tags": []
   },
   "outputs": [
    {
     "data": {
      "text/plain": [
       "(6, 5)"
      ]
     },
     "execution_count": 139,
     "metadata": {},
     "output_type": "execute_result"
    }
   ],
   "source": [
    "a2[0, 2], a2[0, 1]"
   ]
  },
  {
   "cell_type": "markdown",
   "id": "d97fe01e-55af-41d5-a00e-b464fd9c52ed",
   "metadata": {},
   "source": [
    "## 배열 조건문\n",
    "- pandas 문법과 유사다"
   ]
  },
  {
   "cell_type": "code",
   "execution_count": 140,
   "id": "f1b44777-fa7a-4d88-866b-a6b1b2162695",
   "metadata": {
    "tags": []
   },
   "outputs": [
    {
     "data": {
      "text/plain": [
       "array([1, 2, 3, 4, 5, 6])"
      ]
     },
     "execution_count": 140,
     "metadata": {},
     "output_type": "execute_result"
    }
   ],
   "source": [
    "a = np.array([1, 2, 3, 4, 5, 6])\n",
    "a"
   ]
  },
  {
   "cell_type": "code",
   "execution_count": 142,
   "id": "e8c9d0bb-89cd-4984-8c57-551bd1b388da",
   "metadata": {
    "tags": []
   },
   "outputs": [
    {
     "data": {
      "text/plain": [
       "[array([False, False, False,  True,  True,  True])]"
      ]
     },
     "execution_count": 142,
     "metadata": {},
     "output_type": "execute_result"
    }
   ],
   "source": [
    "[a>3]"
   ]
  },
  {
   "cell_type": "code",
   "execution_count": 143,
   "id": "c8acc39a-fd8f-46e6-8f89-616c0a40ac3f",
   "metadata": {
    "tags": []
   },
   "outputs": [
    {
     "data": {
      "text/plain": [
       "array([4, 5, 6])"
      ]
     },
     "execution_count": 143,
     "metadata": {},
     "output_type": "execute_result"
    }
   ],
   "source": [
    "a[a>3]  # 조건식의 True값만 가져옴"
   ]
  },
  {
   "cell_type": "code",
   "execution_count": 145,
   "id": "cd35165c-f139-4c1a-8d10-0dfc83db3d83",
   "metadata": {
    "tags": []
   },
   "outputs": [
    {
     "data": {
      "text/plain": [
       "array([False,  True, False,  True, False,  True])"
      ]
     },
     "execution_count": 145,
     "metadata": {},
     "output_type": "execute_result"
    }
   ],
   "source": [
    "a % 2 == 0  # 실무에서는 이런 코드를 작성하는 것이 핵심!!!"
   ]
  },
  {
   "cell_type": "markdown",
   "id": "1d7a16ea-c112-4518-aa3b-c14121f26adb",
   "metadata": {},
   "source": [
    "## 배열의 슬라이싱"
   ]
  },
  {
   "cell_type": "code",
   "execution_count": 147,
   "id": "7a3d2e0e-7717-4511-8268-67a51c385b33",
   "metadata": {
    "tags": []
   },
   "outputs": [
    {
     "data": {
      "text/plain": [
       "array([1, 2, 3])"
      ]
     },
     "execution_count": 147,
     "metadata": {},
     "output_type": "execute_result"
    }
   ],
   "source": [
    "# p.234\n",
    "b1 = np.array([0, 1, 2, 3, 4, 5])\n",
    "b1[1:4]"
   ]
  },
  {
   "cell_type": "code",
   "execution_count": 148,
   "id": "d6f0d6ab-8081-43d6-9c0b-625ecb943653",
   "metadata": {
    "tags": []
   },
   "outputs": [
    {
     "data": {
      "text/plain": [
       "array([0, 1, 2])"
      ]
     },
     "execution_count": 148,
     "metadata": {},
     "output_type": "execute_result"
    }
   ],
   "source": [
    "b1[:3]"
   ]
  },
  {
   "cell_type": "code",
   "execution_count": 149,
   "id": "7763a36d-b897-478b-8764-b23c85a0f3c5",
   "metadata": {
    "tags": []
   },
   "outputs": [
    {
     "data": {
      "text/plain": [
       "array([2, 3, 4, 5])"
      ]
     },
     "execution_count": 149,
     "metadata": {},
     "output_type": "execute_result"
    }
   ],
   "source": [
    "b1[2:]"
   ]
  },
  {
   "cell_type": "code",
   "execution_count": 150,
   "id": "38814a67-fc5b-4eb8-bd97-e108f5b4e8b7",
   "metadata": {
    "tags": []
   },
   "outputs": [
    {
     "data": {
      "text/plain": [
       "array([0, 2])"
      ]
     },
     "execution_count": 150,
     "metadata": {},
     "output_type": "execute_result"
    }
   ],
   "source": [
    "b1[0:4:2]"
   ]
  },
  {
   "cell_type": "code",
   "execution_count": 152,
   "id": "69a7e626-ceb3-4a7f-8779-acfda06f7a2c",
   "metadata": {
    "tags": []
   },
   "outputs": [
    {
     "data": {
      "text/plain": [
       "array([ 0,  1, 25, 35, 45,  5])"
      ]
     },
     "execution_count": 152,
     "metadata": {},
     "output_type": "execute_result"
    }
   ],
   "source": [
    "b1[2:5] = np.array([25, 35, 45])\n",
    "b1"
   ]
  },
  {
   "cell_type": "code",
   "execution_count": 153,
   "id": "385fc76e-314c-4a67-87c2-9487da528184",
   "metadata": {
    "tags": []
   },
   "outputs": [
    {
     "data": {
      "text/plain": [
       "array([ 0,  1, 25, 60, 60, 60])"
      ]
     },
     "execution_count": 153,
     "metadata": {},
     "output_type": "execute_result"
    }
   ],
   "source": [
    "b1[3:6] = 60\n",
    "b1"
   ]
  },
  {
   "cell_type": "code",
   "execution_count": 33,
   "id": "68fa3ec5-8679-4af5-ab07-6fd05bc09516",
   "metadata": {
    "tags": []
   },
   "outputs": [
    {
     "data": {
      "text/plain": [
       "array([[10, 20, 30],\n",
       "       [40, 50, 60],\n",
       "       [70, 80, 90]])"
      ]
     },
     "execution_count": 33,
     "metadata": {},
     "output_type": "execute_result"
    }
   ],
   "source": [
    "b2 = np.arange(10, 100, 10).reshape(3, 3)\n",
    "b2"
   ]
  },
  {
   "cell_type": "code",
   "execution_count": 155,
   "id": "2da2ddad-ccf7-4f03-a536-4fd22e0d9e7d",
   "metadata": {
    "tags": []
   },
   "outputs": [
    {
     "data": {
      "text/plain": [
       "array([[50, 60],\n",
       "       [80, 90]])"
      ]
     },
     "execution_count": 155,
     "metadata": {},
     "output_type": "execute_result"
    }
   ],
   "source": [
    "b2[1:3, 1:3]"
   ]
  },
  {
   "cell_type": "code",
   "execution_count": 156,
   "id": "5a7a6573-15ba-4212-9906-df934b4243ec",
   "metadata": {
    "tags": []
   },
   "outputs": [
    {
     "data": {
      "text/plain": [
       "array([[50, 60],\n",
       "       [80, 90]])"
      ]
     },
     "execution_count": 156,
     "metadata": {},
     "output_type": "execute_result"
    }
   ],
   "source": [
    "b2[1:, 1:]"
   ]
  },
  {
   "cell_type": "code",
   "execution_count": 158,
   "id": "64a98492-958b-4801-9aae-55eefdd395c9",
   "metadata": {
    "tags": []
   },
   "outputs": [
    {
     "data": {
      "text/plain": [
       "'a'"
      ]
     },
     "execution_count": 158,
     "metadata": {},
     "output_type": "execute_result"
    }
   ],
   "source": [
    "nums = [1, 2, 3, ['a', 'b']]\n",
    "nums[3][0]"
   ]
  },
  {
   "cell_type": "code",
   "execution_count": 159,
   "id": "56795591-c743-4256-9471-3a747c76cb71",
   "metadata": {
    "tags": []
   },
   "outputs": [
    {
     "data": {
      "text/plain": [
       "array([40, 50])"
      ]
     },
     "execution_count": 159,
     "metadata": {},
     "output_type": "execute_result"
    }
   ],
   "source": [
    "b2[1][0:2]"
   ]
  },
  {
   "cell_type": "code",
   "execution_count": 35,
   "id": "ef93d0d8-887c-40a2-8b76-9d90f65d4c26",
   "metadata": {},
   "outputs": [
    {
     "data": {
      "text/plain": [
       "array([[10, 25, 35],\n",
       "       [40, 55, 65],\n",
       "       [70, 80, 90]])"
      ]
     },
     "execution_count": 35,
     "metadata": {},
     "output_type": "execute_result"
    }
   ],
   "source": [
    "b2[0:2, 1:3] = np.array([[25, 35], [55, 65]])\n",
    "b2"
   ]
  },
  {
   "cell_type": "markdown",
   "id": "288860ce-999a-44b9-8327-d557b58c8508",
   "metadata": {},
   "source": [
    "## NumPy 조건문\n",
    "- np.where: 단일 조건문\n",
    "- np.select: 다중 조건문"
   ]
  },
  {
   "cell_type": "code",
   "execution_count": 36,
   "id": "95fd21ac-d79c-4efe-b726-12e6c3454ce5",
   "metadata": {
    "tags": []
   },
   "outputs": [
    {
     "data": {
      "text/plain": [
       "array([0, 1, 2, 3, 4, 5, 6, 7, 8, 9])"
      ]
     },
     "execution_count": 36,
     "metadata": {},
     "output_type": "execute_result"
    }
   ],
   "source": [
    "arr = np.arange(10)\n",
    "arr"
   ]
  },
  {
   "cell_type": "code",
   "execution_count": 37,
   "id": "a9e4e33a-8030-47dd-b1f7-c0f52ee1a08e",
   "metadata": {
    "tags": []
   },
   "outputs": [
    {
     "data": {
      "text/plain": [
       "array([ 0,  1,  2,  3,  4, 50, 60, 70, 80, 90])"
      ]
     },
     "execution_count": 37,
     "metadata": {},
     "output_type": "execute_result"
    }
   ],
   "source": [
    "# 0, 1, 2, 3, 4, 50, 60, 70, 80, 90\n",
    "np.where(arr < 5, arr, arr * 10)"
   ]
  },
  {
   "cell_type": "code",
   "execution_count": 162,
   "id": "cbfa080b-09de-4165-90e6-f5e35d094240",
   "metadata": {
    "tags": []
   },
   "outputs": [
    {
     "data": {
      "text/plain": [
       "array([0, 1, 2, 3, 4, 5, 6, 7, 8, 9])"
      ]
     },
     "execution_count": 162,
     "metadata": {},
     "output_type": "execute_result"
    }
   ],
   "source": [
    "arr = np.arange(10)\n",
    "arr"
   ]
  },
  {
   "cell_type": "code",
   "execution_count": 163,
   "id": "639cb817-a59b-4d55-98aa-37dea5b67d7b",
   "metadata": {
    "tags": []
   },
   "outputs": [
    {
     "data": {
      "text/plain": [
       "array([100, 101,   2,   3,   4,   5,  12,  14,  16,  18])"
      ]
     },
     "execution_count": 163,
     "metadata": {},
     "output_type": "execute_result"
    }
   ],
   "source": [
    "# 100, 101, 2, 3, 4, 5, 12, 14, 16, 18\n",
    "# 2 미만일 때는 100을 더해라\n",
    "# 5 초과일 때는 곱하기 2를 해라\n",
    "\n",
    "# 조건식과 대응 되는 결과를 리스트로 만들기\n",
    "cond_list = [arr > 5, arr < 2]\n",
    "choice_list = [arr * 2, arr + 100]\n",
    "\n",
    "np.select(cond_list, choice_list, default = arr)"
   ]
  }
 ],
 "metadata": {
  "kernelspec": {
   "display_name": "Python 3 (ipykernel)",
   "language": "python",
   "name": "python3"
  },
  "language_info": {
   "codemirror_mode": {
    "name": "ipython",
    "version": 3
   },
   "file_extension": ".py",
   "mimetype": "text/x-python",
   "name": "python",
   "nbconvert_exporter": "python",
   "pygments_lexer": "ipython3",
   "version": "3.12.1"
  }
 },
 "nbformat": 4,
 "nbformat_minor": 5
}
