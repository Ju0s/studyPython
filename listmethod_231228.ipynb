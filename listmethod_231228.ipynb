{
 "cells": [
  {
   "cell_type": "code",
   "execution_count": 4,
   "id": "d9fcb29c-de48-4925-a244-c22c046b0a8e",
   "metadata": {},
   "outputs": [
    {
     "name": "stdout",
     "output_type": "stream",
     "text": [
      "['James', 'Robert', 'Lisa', 'Mary']\n",
      "['James', 'Robert', 'Lisa', 'Mary', 'Thomas']\n"
     ]
    }
   ],
   "source": [
    "# append()\n",
    "myFriends = ['James', 'Robert', 'Lisa', 'Mary']\n",
    "print(myFriends)\n",
    "myFriends.append('Thomas')\n",
    "print(myFriends)"
   ]
  },
  {
   "cell_type": "code",
   "execution_count": 5,
   "id": "70afd601-7b20-4c68-a9c6-b1a958dff64a",
   "metadata": {},
   "outputs": [
    {
     "name": "stdout",
     "output_type": "stream",
     "text": [
      "['James', 'Robert', 'Lisa', 'Mary']\n",
      "['James', 'Robert', 'Lisa', 'Mary', 'Laura', 'Betty']\n"
     ]
    }
   ],
   "source": [
    "# extend\n",
    "myFriends = ['James', 'Robert', 'Lisa', 'Mary']\n",
    "print(myFriends)\n",
    "myFriends.extend(['Laura', 'Betty'])\n",
    "print(myFriends)"
   ]
  },
  {
   "cell_type": "code",
   "execution_count": 7,
   "id": "a0807c65-daeb-4c55-9b69-dc1519532192",
   "metadata": {},
   "outputs": [
    {
     "name": "stdout",
     "output_type": "stream",
     "text": [
      "['James', 'Robert', 'Lisa', 'Mary']\n",
      "['James', 'Paul', 'Robert', 'Lisa', 'Mary']\n"
     ]
    }
   ],
   "source": [
    "# insert\n",
    "myFriends = ['James', 'Robert', 'Lisa', 'Mary']\n",
    "print(myFriends)\n",
    "myFriends.insert(1, 'Paul')\n",
    "print(myFriends)"
   ]
  },
  {
   "cell_type": "code",
   "execution_count": 8,
   "id": "9e570166-8c0d-4e60-989b-5a7e4b367da1",
   "metadata": {},
   "outputs": [
    {
     "name": "stdout",
     "output_type": "stream",
     "text": [
      "['James', 'Robert', 'Lisa', 'Mary']\n",
      "['James', 'Lisa', 'Mary']\n"
     ]
    }
   ],
   "source": [
    "# remove\n",
    "myFriends = ['James', 'Robert', 'Lisa', 'Mary']\n",
    "print(myFriends)\n",
    "myFriends.remove('Robert')\n",
    "print(myFriends)"
   ]
  },
  {
   "cell_type": "code",
   "execution_count": 10,
   "id": "92df401d-77d4-48e6-802d-74833d80110d",
   "metadata": {},
   "outputs": [
    {
     "name": "stdout",
     "output_type": "stream",
     "text": [
      "['James', 'Robert', 'Lisa', 'Mary']\n",
      "['James', 'Robert', 'Lisa']\n",
      "Mary\n"
     ]
    }
   ],
   "source": [
    "# pop\n",
    "myFriends = ['James', 'Robert', 'Lisa', 'Mary']\n",
    "print(myFriends)\n",
    "popFriend = myFriends.pop()\n",
    "print(myFriends)\n",
    "print(popFriend)"
   ]
  },
  {
   "cell_type": "code",
   "execution_count": 11,
   "id": "149261c6-b54a-4eb5-8442-ade30307c602",
   "metadata": {},
   "outputs": [
    {
     "name": "stdout",
     "output_type": "stream",
     "text": [
      "['James', 'Robert', 'Lisa', 'Mary']\n",
      "2\n"
     ]
    }
   ],
   "source": [
    "# index\n",
    "myFriends = ['James', 'Robert', 'Lisa', 'Mary']\n",
    "print(myFriends)\n",
    "indexFriend = myFriends.index('Lisa')\n",
    "print(indexFriend)"
   ]
  },
  {
   "cell_type": "code",
   "execution_count": 12,
   "id": "9ab13c9f-d44d-43f1-bc8d-859ebf6205aa",
   "metadata": {},
   "outputs": [
    {
     "name": "stdout",
     "output_type": "stream",
     "text": [
      "['James', 'Robert', 'Lisa', 'Mary']\n",
      "1\n"
     ]
    }
   ],
   "source": [
    "# count\n",
    "myFriends = ['James', 'Robert', 'Lisa', 'Mary']\n",
    "print(myFriends)\n",
    "countFriend = myFriends.count('Mary')\n",
    "print(countFriend)"
   ]
  },
  {
   "cell_type": "code",
   "execution_count": 13,
   "id": "1330b35f-517f-4891-b218-61d68d0bdc00",
   "metadata": {},
   "outputs": [
    {
     "name": "stdout",
     "output_type": "stream",
     "text": [
      "['James', 'Robert', 'Lisa', 'Mary']\n",
      "['James', 'Lisa', 'Mary', 'Robert']\n"
     ]
    }
   ],
   "source": [
    "# sort\n",
    "myFriends = ['James', 'Robert', 'Lisa', 'Mary']\n",
    "print(myFriends)\n",
    "myFriends.sort()\n",
    "print(myFriends)"
   ]
  },
  {
   "cell_type": "code",
   "execution_count": 14,
   "id": "e01d7199-7474-4b32-8083-cd500591e716",
   "metadata": {},
   "outputs": [
    {
     "name": "stdout",
     "output_type": "stream",
     "text": [
      "['James', 'Robert', 'Lisa', 'Mary']\n",
      "['Mary', 'Lisa', 'Robert', 'James']\n"
     ]
    }
   ],
   "source": [
    "# reverse\n",
    "myFriends = ['James', 'Robert', 'Lisa', 'Mary']\n",
    "print(myFriends)\n",
    "myFriends.reverse()\n",
    "print(myFriends)"
   ]
  },
  {
   "cell_type": "code",
   "execution_count": 15,
   "id": "3bdb995b-e975-41aa-8ae9-d20bd0389a49",
   "metadata": {},
   "outputs": [
    {
     "name": "stdout",
     "output_type": "stream",
     "text": [
      "['James', 'Robert', 'Lisa', 'Mary']\n",
      "['James', 'Robert', 'Lisa', 'Mary']\n"
     ]
    }
   ],
   "source": [
    "# copy\n",
    "myFriends = ['James', 'Robert', 'Lisa', 'Mary']\n",
    "print(myFriends)\n",
    "copyFriend = myFriends.copy()\n",
    "print(copyFriend)"
   ]
  },
  {
   "cell_type": "code",
   "execution_count": 18,
   "id": "73697abf-0f98-480d-91cd-78fb3bca59f1",
   "metadata": {},
   "outputs": [
    {
     "name": "stdout",
     "output_type": "stream",
     "text": [
      "[1, [99, 3], [4, 5]]\n",
      "[1, [99, 3], [4, 5]]\n"
     ]
    }
   ],
   "source": [
    "# 얕은 복사\n",
    "import copy\n",
    "\n",
    "original_list = [1, [2, 3], [4, 5]]\n",
    "shallow_copied_list = copy.copy(original_list)\n",
    "\n",
    "# 얕은 복사 리스트의 수정이 원본 리스트에 영향을 미침\n",
    "shallow_copied_list[1][0] = 99\n",
    "\n",
    "print(original_list)\n",
    "print(shallow_copied_list)"
   ]
  },
  {
   "cell_type": "code",
   "execution_count": 19,
   "id": "f6800e5e-694b-4012-811b-c84e650a4430",
   "metadata": {},
   "outputs": [
    {
     "name": "stdout",
     "output_type": "stream",
     "text": [
      "[1, [2, 3], [4, 5]]\n",
      "[1, [99, 3], [4, 5]]\n"
     ]
    }
   ],
   "source": [
    "import copy\n",
    "\n",
    "original_list = [1, [2, 3], [4, 5]]\n",
    "deep_copied_list = copy.deepcopy(original_list)\n",
    "\n",
    "# 깊은 복사 리스트의 수정이 원본 리스트에 영향을 미치지 않음\n",
    "deep_copied_list[1][0] = 99\n",
    "\n",
    "print(original_list)\n",
    "print(deep_copied_list)"
   ]
  },
  {
   "cell_type": "code",
   "execution_count": null,
   "id": "a8007b0e-cadb-4537-8e82-c9ea07605eca",
   "metadata": {},
   "outputs": [],
   "source": []
  }
 ],
 "metadata": {
  "kernelspec": {
   "display_name": "Python 3 (ipykernel)",
   "language": "python",
   "name": "python3"
  },
  "language_info": {
   "codemirror_mode": {
    "name": "ipython",
    "version": 3
   },
   "file_extension": ".py",
   "mimetype": "text/x-python",
   "name": "python",
   "nbconvert_exporter": "python",
   "pygments_lexer": "ipython3",
   "version": "3.12.1"
  }
 },
 "nbformat": 4,
 "nbformat_minor": 5
}
